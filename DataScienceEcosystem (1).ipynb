{
 "cells": [
  {
   "cell_type": "markdown",
   "id": "8e700a26-dd7d-49fe-b7e3-0f1915dd4f7a",
   "metadata": {},
   "source": [
    "# Data Science Tools and Ecosystem"
   ]
  },
  {
   "cell_type": "markdown",
   "id": "b3afd148-15ed-4ad2-aab3-5181818703e9",
   "metadata": {},
   "source": [
    "In this notebook, data science tools and ecosystems are summarized"
   ]
  },
  {
   "cell_type": "markdown",
   "id": "849a4dec-f587-4fc5-93d0-e4604fd01096",
   "metadata": {},
   "source": [
    "**Objectives:**\n",
    "* List popular data science languages\n",
    "* List common data science libraries\n",
    "* List data science tools\n",
    "* Show examples of arithmetic expressions"
   ]
  },
  {
   "cell_type": "markdown",
   "id": "d75efefb-1881-494c-8e1e-459b4895f118",
   "metadata": {},
   "source": [
    "Some of the popular languages used in data science are:\n",
    "1) python\n",
    "2) R\n",
    "3) Julia\n",
    "4) Scala\n",
    "5) SQL"
   ]
  },
  {
   "cell_type": "markdown",
   "id": "9bebbbfc-9689-4f40-8b6b-0693eb5efe6a",
   "metadata": {},
   "source": [
    "Some of the commonly used libraries used by data scientists include:\n",
    "1) pandas\n",
    "2) Matplotlib\n",
    "3) Numpy\n",
    "4) scikitlearn\n",
    "5) tensorflow"
   ]
  },
  {
   "cell_type": "markdown",
   "id": "2a485788-8342-42dd-8ef2-0a2c0f5fa440",
   "metadata": {},
   "source": [
    "| Data Science Tools |\n",
    "|--------------------|\n",
    "| Jupyter Notebook |\n",
    "| Apache Hadoop |\n",
    "| VS Code|\n"
   ]
  },
  {
   "cell_type": "markdown",
   "id": "d90a8c84-cc25-4c72-9e17-5ace32ae5c83",
   "metadata": {},
   "source": [
    "### Below are a few examples of evaluating arithmetic expressions in python:"
   ]
  },
  {
   "cell_type": "code",
   "execution_count": 10,
   "id": "962bf8b0-65b0-472a-8f27-9e3014c626e2",
   "metadata": {},
   "outputs": [
    {
     "data": {
      "text/plain": [
       "17"
      ]
     },
     "execution_count": 10,
     "metadata": {},
     "output_type": "execute_result"
    }
   ],
   "source": [
    "# A simple arithmetic expression to multiply and add integers\n",
    "(3*4)+5"
   ]
  },
  {
   "cell_type": "code",
   "execution_count": 12,
   "id": "416f3565-70d7-475f-a721-33804ef69c4c",
   "metadata": {},
   "outputs": [
    {
     "data": {
      "text/plain": [
       "3.3333333333333335"
      ]
     },
     "execution_count": 12,
     "metadata": {},
     "output_type": "execute_result"
    }
   ],
   "source": [
    "# This will convert 200 minutes to hours by dividing by 60\n",
    "200/60"
   ]
  },
  {
   "cell_type": "markdown",
   "id": "43a0df4b-af85-4cc3-8feb-7fbdf6210dd4",
   "metadata": {},
   "source": [
    "## Author: \n",
    "Rebecca H."
   ]
  }
 ],
 "metadata": {
  "kernelspec": {
   "display_name": "Python [conda env:base] *",
   "language": "python",
   "name": "conda-base-py"
  },
  "language_info": {
   "codemirror_mode": {
    "name": "ipython",
    "version": 3
   },
   "file_extension": ".py",
   "mimetype": "text/x-python",
   "name": "python",
   "nbconvert_exporter": "python",
   "pygments_lexer": "ipython3",
   "version": "3.12.7"
  }
 },
 "nbformat": 4,
 "nbformat_minor": 5
}
